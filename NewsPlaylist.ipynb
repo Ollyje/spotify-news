{
 "cells": [
  {
   "cell_type": "code",
   "execution_count": 66,
   "id": "d9512f9b-d5d3-4c06-9318-c523957337b1",
   "metadata": {},
   "outputs": [],
   "source": [
    "import spotipy\n",
    "import spotipy.util as util \n",
    "import webbrowser\n",
    "import json\n",
    "import urllib.request\n",
    "from nltk.corpus import stopwords\n",
    "from nltk import pos_tag\n",
    "import requests\n",
    "import collections\n",
    "import nltk"
   ]
  },
  {
   "cell_type": "code",
   "execution_count": 67,
   "id": "84f5c255-c489-4537-b6f2-a539b877619d",
   "metadata": {},
   "outputs": [],
   "source": [
    "with open(\"newskey.txt\", 'r') as key_file:\n",
    "    news_key = key_file.read()"
   ]
  },
  {
   "cell_type": "code",
   "execution_count": 68,
   "id": "8fca065f-ae3c-42ef-8816-f86b711e5521",
   "metadata": {},
   "outputs": [],
   "source": [
    "country = \"us\"\n",
    "category = \"technology\"\n",
    "url = f\"https://newsapi.org/v2/top-headlines?country={country}&category={category}&apiKey={news_key}\""
   ]
  },
  {
   "cell_type": "code",
   "execution_count": 69,
   "id": "7e88a5e7-71f1-45c1-bc4c-137bcdd974e4",
   "metadata": {},
   "outputs": [],
   "source": [
    "request = urllib.request.Request(url)\n",
    "response = urllib.request.urlopen(request)"
   ]
  },
  {
   "cell_type": "code",
   "execution_count": 70,
   "id": "71772a64-e4c8-470b-bf72-88e7eba1ea42",
   "metadata": {},
   "outputs": [],
   "source": [
    "news_articles = json.loads(response.read())"
   ]
  },
  {
   "cell_type": "code",
   "execution_count": 71,
   "id": "c6830fe2-7ad3-4fa6-b2b7-5a95d0b2dceb",
   "metadata": {},
   "outputs": [
    {
     "data": {
      "text/plain": [
       "{'status': 'ok',\n",
       " 'totalResults': 31,\n",
       " 'articles': [{'source': {'id': None, 'name': '9to5Mac'},\n",
       "   'author': 'Filipe Espósito',\n",
       "   'title': 'Apple announces Vision Pro international expansion in two more countries - 9to5Mac',\n",
       "   'description': 'Following an exclusive launch in the US in February, Apple began the international expansion of Vision Pro in June. Now...',\n",
       "   'url': 'https://9to5mac.com/2024/10/30/apple-vision-pro-international-expansion/',\n",
       "   'urlToImage': 'https://i0.wp.com/9to5mac.com/wp-content/uploads/sites/6/2024/10/vision-pro-eyesight-2.jpeg?resize=1200%2C628&quality=82&strip=all&ssl=1',\n",
       "   'publishedAt': '2024-10-31T03:14:00Z',\n",
       "   'content': 'Following an exclusive launch in the US in February, Apple began the international expansion of Vision Pro in June. Now the company is ready to bring Apple Vision Pro to even more countries, as the c… [+1321 chars]'},\n",
       "  {'source': {'id': None, 'name': 'KGW.com'},\n",
       "   'author': 'Katherine Cook',\n",
       "   'title': \"Portland radio DJ survives near-death experience and loses his job before finding a better life: 'I'm lucky' - KGW.com\",\n",
       "   'description': \"Greg Glover has been a fixture at 94.7 KNRK for nearly 20 years. He hopes sharing his story will encourage others facing challenges similar to those he's endured.\",\n",
       "   'url': 'https://www.kgw.com/article/news/community/pacific-storyland/greg-glover-radio-dj-knrk-lost-job-life-alcoholic-pacific-storyland/283-c21c8e1c-fffc-4898-95db-7fc1c1c0f91c',\n",
       "   'urlToImage': 'https://media.kgw.com/assets/KGW/images/baf04fc4-8385-425e-bedd-3fa0147618c8/20241031T003322/baf04fc4-8385-425e-bedd-3fa0147618c8_1140x641.jpg',\n",
       "   'publishedAt': '2024-10-31T01:05:00Z',\n",
       "   'content': \"PORTLAND, Ore. As the sun rises each morning, droves of groggy Portlanders awaken to a voice they've been tuning in to for nearly two decades. It belongs to Greg Glover, a radio DJ for 94.7 KNRK, an … [+8290 chars]\"},\n",
       "  {'source': {'id': None, 'name': 'Eurogamer.net'},\n",
       "   'author': 'Matt Wales',\n",
       "   'title': 'Call of Duty: Black Ops 6 sets record for \"Game Pass subscriber adds on launch day\", says Microsoft - Eurogamer',\n",
       "   'description': 'Microsoft boss Satya Nadella has called last week\\'s Black Ops 6 launch the \"biggest Call of Duty release ever\", saying …',\n",
       "   'url': 'https://www.eurogamer.net/call-of-duty-black-ops-6-sets-records-for-game-pass-subscriber-adds-on-launch-day-says-microsoft',\n",
       "   'urlToImage': 'https://assetsio.gnwcdn.com/Call-of-Duty-Black-Ops-6-screenshot-from-trailer.jpg?width=1200&height=630&fit=crop&enable=upscale&auto=webp',\n",
       "   'publishedAt': '2024-10-30T23:03:53Z',\n",
       "   'content': 'Microsoft boss Satya Nadella has called last week\\'s Black Ops 6 launch the \"biggest Call of Duty release ever\", saying its arrival set a record for \"Game Pass subscriber adds on launch day.\"\\r\\nNews of… [+2659 chars]'},\n",
       "  {'source': {'id': 'the-verge', 'name': 'The Verge'},\n",
       "   'author': 'Andrew Webster',\n",
       "   'title': 'Nintendo made a music streaming app for Switch Online subscribers - The Verge',\n",
       "   'description': 'Nintendo has announced a new music streaming app, called Nintendo Music, that’s available on October 30th for Switch Online subscribers.',\n",
       "   'url': 'https://www.theverge.com/2024/10/30/24284073/nintendo-music-streaming-app-switch-online-subscribers',\n",
       "   'urlToImage': 'https://cdn.vox-cdn.com/thumbor/LOdMBkWvL31Ba4R1Io7GKQAiszs=/0x0:2148x1104/1200x628/filters:focal(1074x552:1075x553)/cdn.vox-cdn.com/uploads/chorus_asset/file/25707406/Screen_Shot_2024_10_30_at_6.09.39_PM.png',\n",
       "   'publishedAt': '2024-10-30T22:22:09Z',\n",
       "   'content': 'Nintendo made a music streaming app for Switch Online subscribers\\r\\nNintendo made a music streaming app for Switch Online subscribers\\r\\n / Its not a Switch 2, but the mobile app sure does sound cool.\\r\\n… [+1412 chars]'},\n",
       "  {'source': {'id': 'the-verge', 'name': 'The Verge'},\n",
       "   'author': 'Umar Shakir',\n",
       "   'title': 'Google’s AI-powered weather app is rolling out to older Pixels - The Verge',\n",
       "   'description': 'Google is rolling out its standalone Weather app with AI-powered summaries to older Pixel devices, including the 6,\\xa06 Pro, 6A,\\xa07, 7 Pro, 7A, 8, 8 Pro, and 8A.',\n",
       "   'url': 'https://www.theverge.com/2024/10/30/24283998/google-weather-app-pixel-8-7-6-ai-summaries',\n",
       "   'urlToImage': 'https://cdn.vox-cdn.com/thumbor/3jUIPqWVD0mN7Mhj4MdLW0QW5AQ=/0x0:1564x1043/1200x628/filters:focal(782x522:783x523)/cdn.vox-cdn.com/uploads/chorus_asset/file/25707311/Screenshot_2024_10_30_at_5.17.50_PM.jpeg',\n",
       "   'publishedAt': '2024-10-30T22:19:30Z',\n",
       "   'content': 'Googles AI-powered weather app is rolling out to older Pixels\\r\\nGoogles AI-powered weather app is rolling out to older Pixels\\r\\n / Googles standalone weather app, which was already included on Pixel 9 … [+1322 chars]'},\n",
       "  {'source': {'id': None, 'name': 'DSOGaming'},\n",
       "   'author': 'John Papadopoulos',\n",
       "   'title': 'Red Dead Redemption Remastered is CPU-bound on PC, even with an AMD Ryzen 9 7950X3D - DSOGaming',\n",
       "   'description': 'Red Dead Redemption Remastered is CPU-bound on PC, even when gaming at 4K with high-end CPUs like the AMD Ryzen 9 7950X3D.',\n",
       "   'url': 'https://www.dsogaming.com/articles/red-dead-redemption-remaster-is-cpu-bound-on-pc-even-with-an-amd-ryzen-9-7950x3d/',\n",
       "   'urlToImage': 'https://www.dsogaming.com/wp-content/uploads/2024/10/Red-Dead-Redemption-Remastered-feature-1-scaled.jpg',\n",
       "   'publishedAt': '2024-10-30T20:39:38Z',\n",
       "   'content': 'Rockstar has just released Red Dead Redemption Remastered on PC. And, to be honest, I wasn’t planning to cover it. You see, this is a remaster and we don’t usually benchmark them. However, after popu… [+3518 chars]'},\n",
       "  {'source': {'id': 'ars-technica', 'name': 'Ars Technica'},\n",
       "   'author': 'Dan Goodin',\n",
       "   'title': 'Android Trojan that intercepts voice calls to banks just got more stealthy - Ars Technica',\n",
       "   'description': 'FakeCall malware can reroute calls intended for banks to attacker-controlled numbers.',\n",
       "   'url': 'https://arstechnica.com/information-technology/2024/10/android-trojan-that-intercepts-voice-calls-to-banks-just-got-more-stealthy/',\n",
       "   'urlToImage': 'https://cdn.arstechnica.net/wp-content/uploads/2024/10/infected-phone-1000x648.jpg',\n",
       "   'publishedAt': '2024-10-30T19:59:03Z',\n",
       "   'content': None},\n",
       "  {'source': {'id': 'ign', 'name': 'IGN'},\n",
       "   'author': 'Matt Kim',\n",
       "   'title': \"PlayStation Urgently Needs To Rethink Its Live-Service Strategy After Concord's Failure - IGN\",\n",
       "   'description': \"Concord's failure and PlayStation's response shows that something is seriously wrong with how Sony is approaching its aggressive live-service games strategy. And something needs to change.\",\n",
       "   'url': 'https://www.ign.com/articles/concord-firewalk-what-playstation-can-learn-from-this-failure',\n",
       "   'urlToImage': 'https://assets-prd.ignimgs.com/2024/10/30/concordlennoxtrailer-ign-blogrol-1730315300208.png?width=1280',\n",
       "   'publishedAt': '2024-10-30T19:20:27Z',\n",
       "   'content': 'After years of console domination, were starting to see cracks in the PlayStation brand as it tries to brute force its way towards live-service supremacy. Theres no clearer example of this than the h… [+8196 chars]'},\n",
       "  {'source': {'id': 'techcrunch', 'name': 'TechCrunch'},\n",
       "   'author': 'Sarah Perez',\n",
       "   'title': 'WordPress co-founder Matt Mullenweg says a fork would be ‘fantastic’ - TechCrunch',\n",
       "   'description': \"WordPress co-founder and Automattic CEO Matt Mullenweg, speaking on stage at TechCrunch Disrupt 2024 on Wednesday, said he's not worried that the recent\",\n",
       "   'url': 'https://techcrunch.com/2024/10/30/wordpress-co-founder-matt-mullenweg-says-a-fork-would-be-fantastic/',\n",
       "   'urlToImage': 'https://techcrunch.com/wp-content/uploads/2024/10/matt-mullenweg-disrupt.jpg?resize=1200,800',\n",
       "   'publishedAt': '2024-10-30T19:17:22Z',\n",
       "   'content': 'WordPress co-founder and Automattic CEO Matt Mullenweg, speaking on stage at TechCrunch Disrupt 2024 on Wednesday, said he’s not worried that the recent legal drama between his company, Automattic, a… [+2504 chars]'},\n",
       "  {'source': {'id': None, 'name': 'Bloody Disgusting'},\n",
       "   'author': 'Mike Wilson',\n",
       "   'title': '10 Horror Video Games to Play for Halloween 2024 - Bloody Disgusting',\n",
       "   'description': 'It’s that time of year again. And while watching one of the classics on TV or Blu-ray never gets old, sometimes you want to mix things up for Halloween with video game or two. There’s obviously no shortage of titles to choose from, but if you’re stuck with wh…',\n",
       "   'url': 'https://bloody-disgusting.com/video-games/3836278/here-are-our-choices-of-video-games-to-play-for-halloween-2024/',\n",
       "   'urlToImage': 'https://i0.wp.com/bloody-disgusting.com/wp-content/uploads/2024/10/sh2remake-1.jpg?resize=900%2C580&ssl=1',\n",
       "   'publishedAt': '2024-10-30T18:34:51Z',\n",
       "   'content': 'It’s that time of year again. And while watching one of the classics on TV or Blu-ray never gets old, sometimes you want to mix things up for Halloween with video game or two.\\r\\nThere’s obviously no s… [+7387 chars]'},\n",
       "  {'source': {'id': None, 'name': 'VentureBeat'},\n",
       "   'author': None,\n",
       "   'title': 'Google’s AI system could change the way we write: InkSight turns handwritten notes digital - VentureBeat',\n",
       "   'description': None,\n",
       "   'url': 'https://venturebeat.com/ai/googles-ai-system-could-change-the-way-we-write-inksight-turns-handwritten-notes-digital/',\n",
       "   'urlToImage': None,\n",
       "   'publishedAt': '2024-10-30T18:22:29Z',\n",
       "   'content': None},\n",
       "  {'source': {'id': None, 'name': '[Removed]'},\n",
       "   'author': None,\n",
       "   'title': '[Removed]',\n",
       "   'description': '[Removed]',\n",
       "   'url': 'https://removed.com',\n",
       "   'urlToImage': None,\n",
       "   'publishedAt': '2024-10-30T17:30:14Z',\n",
       "   'content': '[Removed]'},\n",
       "  {'source': {'id': None, 'name': 'GameSpot'},\n",
       "   'author': 'Jason Fanelli',\n",
       "   'title': \"Here's The Full Wizards Deck From Magic: The Gathering's Foundations Beginner's Box - GameSpot\",\n",
       "   'description': 'We have an exclusive look at one of the ten decks inside the new tool for new players.',\n",
       "   'url': 'https://www.gamespot.com/gallery/heres-the-full-wizards-deck-from-magic-the-gatherings-foundations-beginners-box/2900-5897/',\n",
       "   'urlToImage': 'https://www.gamespot.com/a/uploads/screen_kubrick/3/37852/4392257-magic-the-gathering-wizards-cover.jpg',\n",
       "   'publishedAt': '2024-10-30T17:00:00Z',\n",
       "   'content': 'GameSpot may receive revenue from affiliate and advertising partnerships for sharing this content and from purchases through links.'},\n",
       "  {'source': {'id': None, 'name': 'Android Central'},\n",
       "   'author': 'Vishnu Sarangapurkar',\n",
       "   'title': 'New OnePlus 13 details confirm ultrasonic fingerprint sensor and other display specs - Android Central',\n",
       "   'description': 'After relying on an optical fingerprint sensor for so many years, the OnePlus 13 is making a shift.',\n",
       "   'url': 'https://www.androidcentral.com/phones/oneplus-13-display-specs-and-other-essential-features-surface',\n",
       "   'urlToImage': 'https://cdn.mos.cms.futurecdn.net/LP5pov4NzTmo66ztnFeESh-1200-80.jpg',\n",
       "   'publishedAt': '2024-10-30T16:57:07Z',\n",
       "   'content': 'What you need to know\\r\\n<ul><li>OnePlus 13 to sport BOE X2 display with 120Hz refresh rate and HDR10+ plus Dolby Vision support.</li><li>It has also been confirmed to feature an ultrasonic fingerprint… [+2697 chars]'},\n",
       "  {'source': {'id': None, 'name': 'MacRumors'},\n",
       "   'author': 'Joe Rossignol',\n",
       "   'title': 'Entire Mac Lineup Now Starts With at Least 16GB RAM, Ending 8GB Era - MacRumors',\n",
       "   'description': 'Apple this week announced new iMac, Mac mini, and MacBook Pro models, and they are all available with a minimum of 16GB of RAM. Apple also announced...',\n",
       "   'url': 'https://www.macrumors.com/2024/10/30/entire-mac-lineup-now-at-least-16gb-ram/',\n",
       "   'urlToImage': 'https://images.macrumors.com/t/DzXlkW_FinXxDJ7EtuGeT0yBrlA=/1600x/article-new/2022/12/apple-silicon-mac-lineup-wwdc-2022-feature-purple.jpg',\n",
       "   'publishedAt': '2024-10-30T16:38:35Z',\n",
       "   'content': 'Apple this week announced new iMac, Mac mini, and MacBook Pro models, and they are all available with a minimum of 16GB of RAM. Apple also announced that the MacBook Air lineup now starts with 16GB o… [+703 chars]'},\n",
       "  {'source': {'id': None, 'name': 'Anime News Network'},\n",
       "   'author': None,\n",
       "   'title': 'Death Note Series Gets New Online Social Deduction Game for PS5, PS4, PC on November 5 - Anime News Network',\n",
       "   'description': 'Trailer streamed for 10-player DEATH NOTE Killer Within game',\n",
       "   'url': 'https://www.animenewsnetwork.com/news/2024-10-30/death-note-series-gets-new-online-social-deduction-game-for-ps5-ps4-pc-on-november-5/.217340',\n",
       "   'urlToImage': 'https://www.animenewsnetwork.com/thumbnails/crop600x315gK0/youtube/ruA_FjZrPfs.jpg',\n",
       "   'publishedAt': '2024-10-30T16:27:59Z',\n",
       "   'content': \"Bandai Namco Entertainment announced on Wednesday the new DEATH NOTE Killer Within game, based on Tsugumi Ohba and Takeshi Obata's Death Note manga. The online social deduction game will launch for P… [+1405 chars]\"},\n",
       "  {'source': {'id': None, 'name': 'CNET'},\n",
       "   'author': None,\n",
       "   'title': 'Apple Refreshes MacBook Pro Laptops With New M4 Pro, M4 Max Chips - CNET',\n",
       "   'description': 'The new chips drive additional upgrades, including Thunderbolt 5, increased memory (for AI!) and a much-needed webcam improvement.',\n",
       "   'url': 'https://www.cnet.com/tech/computing/apple-refreshes-macbook-pro-laptops-with-new-m4-pro-m4-max-chips/',\n",
       "   'urlToImage': 'https://www.cnet.com/a/img/resize/a1586138aeaf6d842a3882c86a77deb16be846c1/hub/2024/10/29/3b32c431-dc81-41cb-a5a6-8d6a9c590c09/apple-mac-pro-m4-late-2024.jpg?auto=webp&fit=crop&height=675&width=1200',\n",
       "   'publishedAt': '2024-10-30T16:00:00Z',\n",
       "   'content': \"Apple's new M4 processors promise generation-over-generation improvements to CPU and GPU performance for its\\xa0MacBook Pro 14\\xa0and\\xa0MacBook Pro 16\\xa0laptops. The new M4 Pro and Max chips, which follow the … [+2728 chars]\"},\n",
       "  {'source': {'id': None, 'name': '[Removed]'},\n",
       "   'author': None,\n",
       "   'title': '[Removed]',\n",
       "   'description': '[Removed]',\n",
       "   'url': 'https://removed.com',\n",
       "   'urlToImage': None,\n",
       "   'publishedAt': '2024-10-30T15:20:02Z',\n",
       "   'content': '[Removed]'},\n",
       "  {'source': {'id': None, 'name': '9to5Mac'},\n",
       "   'author': 'Ryan Christoffel',\n",
       "   'title': 'New Pokémon TCG app now available for iPhone - 9to5Mac',\n",
       "   'description': 'Nintendo has released a new Pokémon TCG app for iPhones, bringing the experience of collecting and playing with Pokémon cards to iOS.',\n",
       "   'url': 'https://9to5mac.com/2024/10/30/new-pokemon-tcg-app-now-available-for-iphone/',\n",
       "   'urlToImage': 'https://i0.wp.com/9to5mac.com/wp-content/uploads/sites/6/2024/08/pokemon-tcg-pocket-app.jpg?resize=1200%2C628&quality=82&strip=all&ssl=1',\n",
       "   'publishedAt': '2024-10-30T14:51:00Z',\n",
       "   'content': 'Nintendo has just launched a new Pokémon TCG Pocket app for iPhone. The app brings the experience of collecting and playing with Pokémon cards into the digital realm. Heres what it can do.\\r\\nThis summ… [+1246 chars]'},\n",
       "  {'source': {'id': 'the-verge', 'name': 'The Verge'},\n",
       "   'author': 'David Pierce',\n",
       "   'title': 'The Alexa Skills revolution that wasn’t - The Verge',\n",
       "   'description': 'Ever since the launch of the first Amazon Echo in 2014, the company has been trying to turn Alexa Skills into a new way to use a voice assistant —\\xa0and apps.',\n",
       "   'url': 'https://www.theverge.com/24283253/amazon-alexa-skills-app-store-10th-anniversary',\n",
       "   'urlToImage': 'https://cdn.vox-cdn.com/thumbor/4CS1ClRFO6UGsCyURN6kS-NrMZ4=/0x0:2040x1360/1200x628/filters:focal(1020x680:1021x681)/cdn.vox-cdn.com/uploads/chorus_asset/file/25696567/247324_10_years_of_Alexa_MWang__0001_SKILLS.jpg',\n",
       "   'publishedAt': '2024-10-30T14:30:00Z',\n",
       "   'content': 'Ten years ago, Amazon imagined a future beyond apps \\xa0and it had the idea basically right. But the perfect ambient computer remains frustratingly far away.\\r\\nByDavid Pierce, editor-at-large and Vergeca… [+10831 chars]'}]}"
      ]
     },
     "execution_count": 71,
     "metadata": {},
     "output_type": "execute_result"
    }
   ],
   "source": [
    "news_articles"
   ]
  },
  {
   "cell_type": "code",
   "execution_count": 72,
   "id": "3ab454de-3a83-475b-898e-c95d72514893",
   "metadata": {},
   "outputs": [
    {
     "data": {
      "text/plain": [
       "['Apple announces Vision Pro international expansion in two more countries - 9to5Mac',\n",
       " \"Portland radio DJ survives near-death experience and loses his job before finding a better life: 'I'm lucky' - KGW.com\",\n",
       " 'Call of Duty: Black Ops 6 sets record for \"Game Pass subscriber adds on launch day\", says Microsoft - Eurogamer',\n",
       " 'Nintendo made a music streaming app for Switch Online subscribers - The Verge',\n",
       " 'Google’s AI-powered weather app is rolling out to older Pixels - The Verge',\n",
       " 'Red Dead Redemption Remastered is CPU-bound on PC, even with an AMD Ryzen 9 7950X3D - DSOGaming',\n",
       " 'Android Trojan that intercepts voice calls to banks just got more stealthy - Ars Technica',\n",
       " \"PlayStation Urgently Needs To Rethink Its Live-Service Strategy After Concord's Failure - IGN\",\n",
       " 'WordPress co-founder Matt Mullenweg says a fork would be ‘fantastic’ - TechCrunch',\n",
       " '10 Horror Video Games to Play for Halloween 2024 - Bloody Disgusting',\n",
       " 'Google’s AI system could change the way we write: InkSight turns handwritten notes digital - VentureBeat',\n",
       " '[Removed]',\n",
       " \"Here's The Full Wizards Deck From Magic: The Gathering's Foundations Beginner's Box - GameSpot\",\n",
       " 'New OnePlus 13 details confirm ultrasonic fingerprint sensor and other display specs - Android Central',\n",
       " 'Entire Mac Lineup Now Starts With at Least 16GB RAM, Ending 8GB Era - MacRumors',\n",
       " 'Death Note Series Gets New Online Social Deduction Game for PS5, PS4, PC on November 5 - Anime News Network',\n",
       " 'Apple Refreshes MacBook Pro Laptops With New M4 Pro, M4 Max Chips - CNET',\n",
       " '[Removed]',\n",
       " 'New Pokémon TCG app now available for iPhone - 9to5Mac',\n",
       " 'The Alexa Skills revolution that wasn’t - The Verge']"
      ]
     },
     "execution_count": 72,
     "metadata": {},
     "output_type": "execute_result"
    }
   ],
   "source": [
    "article_titles = [article['title'] for article in news_articles['articles']]\n",
    "article_titles"
   ]
  },
  {
   "cell_type": "code",
   "execution_count": 73,
   "id": "688954c0-9f06-46d6-abdc-1d1ba5a85663",
   "metadata": {},
   "outputs": [
    {
     "name": "stderr",
     "output_type": "stream",
     "text": [
      "[nltk_data] Downloading package averaged_perceptron_tagger to\n",
      "[nltk_data]     C:\\Users\\Oliver\\AppData\\Roaming\\nltk_data...\n",
      "[nltk_data]   Package averaged_perceptron_tagger is already up-to-\n",
      "[nltk_data]       date!\n"
     ]
    },
    {
     "data": {
      "text/plain": [
       "True"
      ]
     },
     "execution_count": 73,
     "metadata": {},
     "output_type": "execute_result"
    }
   ],
   "source": [
    "nltk.download('averaged_perceptron_tagger')"
   ]
  },
  {
   "cell_type": "code",
   "execution_count": 74,
   "id": "f91724b5-918d-4bfe-aa39-ae71178a476a",
   "metadata": {},
   "outputs": [
    {
     "data": {
      "text/plain": [
       "['Apple', 'Vision', 'Pro']"
      ]
     },
     "execution_count": 74,
     "metadata": {},
     "output_type": "execute_result"
    }
   ],
   "source": [
    "tagged_words = pos_tag(article_titles[0].split())\n",
    "proper_nouns = [word for word,tag in tagged_words if tag == 'NNP']\n",
    "proper_nouns"
   ]
  },
  {
   "cell_type": "code",
   "execution_count": 75,
   "id": "c983bbbd-ace7-4162-b348-331cb4e28708",
   "metadata": {},
   "outputs": [
    {
     "data": {
      "text/plain": [
       "['Apple', 'Vision', 'Pro', 'Sony', 'Playstation']"
      ]
     },
     "execution_count": 75,
     "metadata": {},
     "output_type": "execute_result"
    }
   ],
   "source": [
    "keywords = []\n",
    "my_lista = ['Apple', 'Vision', 'Pro']\n",
    "my_listb = ['Sony', 'Playstation']\n",
    "keywords.extend(my_lista)\n",
    "keywords.extend(my_listb)\n",
    "keywords"
   ]
  },
  {
   "cell_type": "code",
   "execution_count": 76,
   "id": "b1486a78-ba98-4649-b359-7cfb5207fbd5",
   "metadata": {
    "scrolled": true
   },
   "outputs": [
    {
     "data": {
      "text/plain": [
       "['Apple',\n",
       " 'Vision',\n",
       " 'Pro',\n",
       " 'Portland',\n",
       " 'DJ',\n",
       " 'Duty:',\n",
       " 'Black',\n",
       " 'Ops',\n",
       " 'Pass',\n",
       " 'subscriber',\n",
       " 'Microsoft',\n",
       " 'Nintendo',\n",
       " 'Switch',\n",
       " 'Online',\n",
       " 'Google’s',\n",
       " 'AI-powered',\n",
       " 'Pixels',\n",
       " 'Dead',\n",
       " 'Redemption',\n",
       " 'Remastered',\n",
       " 'CPU-bound',\n",
       " 'PC,',\n",
       " 'AMD',\n",
       " 'Ryzen',\n",
       " 'Android',\n",
       " 'Trojan',\n",
       " 'Ars',\n",
       " 'Technica',\n",
       " 'PlayStation',\n",
       " 'Live-Service',\n",
       " 'Strategy',\n",
       " \"Concord's\",\n",
       " 'Failure',\n",
       " 'Matt',\n",
       " 'Mullenweg',\n",
       " 'Horror',\n",
       " 'Video',\n",
       " 'Games',\n",
       " 'Halloween',\n",
       " 'Google’s',\n",
       " 'AI',\n",
       " 'InkSight',\n",
       " \"Here's\",\n",
       " 'Full',\n",
       " 'Wizards',\n",
       " 'Deck',\n",
       " 'From',\n",
       " 'Magic:',\n",
       " \"Gathering's\",\n",
       " 'Foundations',\n",
       " \"Beginner's\",\n",
       " 'Box',\n",
       " 'New',\n",
       " 'OnePlus',\n",
       " 'Central',\n",
       " 'Entire',\n",
       " 'Mac',\n",
       " 'Lineup',\n",
       " 'Least',\n",
       " 'RAM,',\n",
       " 'Ending',\n",
       " 'Era',\n",
       " 'Death',\n",
       " 'Note',\n",
       " 'Series',\n",
       " 'Gets',\n",
       " 'New',\n",
       " 'Online',\n",
       " 'Social',\n",
       " 'Deduction',\n",
       " 'Game',\n",
       " 'PS5,',\n",
       " 'PS4,',\n",
       " 'November',\n",
       " 'Anime',\n",
       " 'News',\n",
       " 'Network',\n",
       " 'Apple',\n",
       " 'Refreshes',\n",
       " 'MacBook',\n",
       " 'Pro',\n",
       " 'Laptops',\n",
       " 'New',\n",
       " 'M4',\n",
       " 'Pro,',\n",
       " 'M4',\n",
       " 'Max',\n",
       " 'Chips',\n",
       " 'New',\n",
       " 'Pokémon',\n",
       " 'TCG',\n",
       " 'Alexa',\n",
       " 'Skills']"
      ]
     },
     "execution_count": 76,
     "metadata": {},
     "output_type": "execute_result"
    }
   ],
   "source": [
    "keywords = []\n",
    "for article_title in article_titles:\n",
    "    # tagged_words will return a list of tuples\n",
    "    tagged_words = pos_tag(article_title.split())\n",
    "    # collect all the proper nouns\n",
    "    keywords.extend([word for word,tag in tagged_words if tag == 'NNP'])\n",
    "\n",
    "keywords"
   ]
  },
  {
   "cell_type": "code",
   "execution_count": 77,
   "id": "3e13e894-7d6c-4ab9-ad3a-e0b7dab40613",
   "metadata": {
    "scrolled": true
   },
   "outputs": [
    {
     "data": {
      "text/plain": [
       "Counter({'New': 4,\n",
       "         'Apple': 2,\n",
       "         'Pro': 2,\n",
       "         'Online': 2,\n",
       "         'Google’s': 2,\n",
       "         'M4': 2,\n",
       "         'Vision': 1,\n",
       "         'Portland': 1,\n",
       "         'DJ': 1,\n",
       "         'Duty:': 1,\n",
       "         'Black': 1,\n",
       "         'Ops': 1,\n",
       "         'Pass': 1,\n",
       "         'subscriber': 1,\n",
       "         'Microsoft': 1,\n",
       "         'Nintendo': 1,\n",
       "         'Switch': 1,\n",
       "         'AI-powered': 1,\n",
       "         'Pixels': 1,\n",
       "         'Dead': 1,\n",
       "         'Redemption': 1,\n",
       "         'Remastered': 1,\n",
       "         'CPU-bound': 1,\n",
       "         'PC,': 1,\n",
       "         'AMD': 1,\n",
       "         'Ryzen': 1,\n",
       "         'Android': 1,\n",
       "         'Trojan': 1,\n",
       "         'Ars': 1,\n",
       "         'Technica': 1,\n",
       "         'PlayStation': 1,\n",
       "         'Live-Service': 1,\n",
       "         'Strategy': 1,\n",
       "         \"Concord's\": 1,\n",
       "         'Failure': 1,\n",
       "         'Matt': 1,\n",
       "         'Mullenweg': 1,\n",
       "         'Horror': 1,\n",
       "         'Video': 1,\n",
       "         'Games': 1,\n",
       "         'Halloween': 1,\n",
       "         'AI': 1,\n",
       "         'InkSight': 1,\n",
       "         \"Here's\": 1,\n",
       "         'Full': 1,\n",
       "         'Wizards': 1,\n",
       "         'Deck': 1,\n",
       "         'From': 1,\n",
       "         'Magic:': 1,\n",
       "         \"Gathering's\": 1,\n",
       "         'Foundations': 1,\n",
       "         \"Beginner's\": 1,\n",
       "         'Box': 1,\n",
       "         'OnePlus': 1,\n",
       "         'Central': 1,\n",
       "         'Entire': 1,\n",
       "         'Mac': 1,\n",
       "         'Lineup': 1,\n",
       "         'Least': 1,\n",
       "         'RAM,': 1,\n",
       "         'Ending': 1,\n",
       "         'Era': 1,\n",
       "         'Death': 1,\n",
       "         'Note': 1,\n",
       "         'Series': 1,\n",
       "         'Gets': 1,\n",
       "         'Social': 1,\n",
       "         'Deduction': 1,\n",
       "         'Game': 1,\n",
       "         'PS5,': 1,\n",
       "         'PS4,': 1,\n",
       "         'November': 1,\n",
       "         'Anime': 1,\n",
       "         'News': 1,\n",
       "         'Network': 1,\n",
       "         'Refreshes': 1,\n",
       "         'MacBook': 1,\n",
       "         'Laptops': 1,\n",
       "         'Pro,': 1,\n",
       "         'Max': 1,\n",
       "         'Chips': 1,\n",
       "         'Pokémon': 1,\n",
       "         'TCG': 1,\n",
       "         'Alexa': 1,\n",
       "         'Skills': 1})"
      ]
     },
     "execution_count": 77,
     "metadata": {},
     "output_type": "execute_result"
    }
   ],
   "source": [
    "word_counter = collections.Counter(keywords)\n",
    "word_counter"
   ]
  },
  {
   "cell_type": "code",
   "execution_count": 78,
   "id": "71ad6b94-14d2-439c-a80f-7b3af05096eb",
   "metadata": {},
   "outputs": [],
   "source": [
    "cred = \"spotifykeys.json\"\n",
    "with open(cred, \"r\") as key_file:\n",
    "    api_tokens = json.load(key_file)\n",
    "\n",
    "key_file.close()"
   ]
  },
  {
   "cell_type": "code",
   "execution_count": 82,
   "id": "8f668fea-aa8c-4882-a960-67b30c918b24",
   "metadata": {},
   "outputs": [],
   "source": [
    "client_id = api_tokens['client_id']\n",
    "client_secret = api_tokens['client_secret']\n",
    "redirectURI = api_tokens['redirect']\n",
    "username = api_tokens['username']"
   ]
  },
  {
   "cell_type": "code",
   "execution_count": 83,
   "id": "c01e9aaa-984c-4a4c-924b-500ba8311971",
   "metadata": {},
   "outputs": [
    {
     "name": "stdin",
     "output_type": "stream",
     "text": [
      "Enter the URL you were redirected to:  https://www.google.co.uk/?code=AQBoxbEkL62mmifHl8TKSkQyJnEII25yRlBX7d_iogEqcf4YBHyyJ1LIPh2mBlKBnuXm0mYIXnuZVnGQQFqeXUmPMB6FY-QP4siFGiKRCJAZhhlzdVTm4UHL2MjjpV8VhAyhLrZRMV5EaTXAhUDNtdpzrsWSQlrsX1vmd2G1_JXG0oj8tXLmC6G7HljWAWHDtwxMjmTa4HXLu2A5LYtDX_abhsUvPvaeMWrKs5MUy2ygPeS5HjeI1xao6mzT2YpnyfIgfb5bq0tUMGiSfvRaYZ8xayw6Peaa5TsHH6DZIGa4-44gz0SlXMrzzcptymWbyg\n"
     ]
    }
   ],
   "source": [
    "scope = 'user-read-private user-read-playback-state user-modify-playback-state playlist-modify-public user-library-read'\n",
    "token = util.prompt_for_user_token(username, scope, client_id=client_id, client_secret=client_secret, redirect_uri=redirectURI)\n"
   ]
  },
  {
   "cell_type": "code",
   "execution_count": 84,
   "id": "28dd5792-0579-4d7c-a8e9-b5b8cb009f74",
   "metadata": {},
   "outputs": [],
   "source": [
    "sp = spotipy.Spotify(auth=token)"
   ]
  },
  {
   "cell_type": "code",
   "execution_count": 90,
   "id": "57798566-eb27-44c1-90c8-601fd3d8f6df",
   "metadata": {},
   "outputs": [],
   "source": [
    "songs_for_playlist =[]\n",
    "for keyword in word_counter.keys():\n",
    "    if word_counter[keyword] > 1:\n",
    "        returned_song = sp.search(q=\"artist:\"+keyword, type=\"track\", limit=1)\n",
    "        # make sure something gets returned\n",
    "        if len(returned_song['tracks']['items']) > 0:\n",
    "            songs_for_playlist.append(returned_song['tracks']['items'][0]['uri'])"
   ]
  },
  {
   "cell_type": "code",
   "execution_count": 93,
   "id": "9669fcc7-417d-45ca-8206-0d5fe3af3c27",
   "metadata": {},
   "outputs": [],
   "source": [
    "my_playlist = sp.user_playlist_create(user=username, name=\"News\", public=True, description=\"newsssss\")\n",
    "playlist_with_sings = sp.user_playlist_add_tracks(username, my_playlist['id'], songs_for_playlist)"
   ]
  },
  {
   "cell_type": "code",
   "execution_count": null,
   "id": "cee3844d-2f74-4bc9-8b23-a3db9794c6c6",
   "metadata": {},
   "outputs": [],
   "source": []
  }
 ],
 "metadata": {
  "kernelspec": {
   "display_name": "Python 3 (ipykernel)",
   "language": "python",
   "name": "python3"
  },
  "language_info": {
   "codemirror_mode": {
    "name": "ipython",
    "version": 3
   },
   "file_extension": ".py",
   "mimetype": "text/x-python",
   "name": "python",
   "nbconvert_exporter": "python",
   "pygments_lexer": "ipython3",
   "version": "3.12.7"
  }
 },
 "nbformat": 4,
 "nbformat_minor": 5
}
