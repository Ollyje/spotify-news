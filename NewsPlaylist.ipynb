{
 "cells": [
  {
   "cell_type": "code",
   "execution_count": 2,
   "id": "d9512f9b-d5d3-4c06-9318-c523957337b1",
   "metadata": {},
   "outputs": [],
   "source": [
    "import spotipy\n",
    "import spotipy.util as util \n",
    "import webbrowser\n",
    "import json\n",
    "import urllib.request\n",
    "from nltk.corpus import stopwords\n",
    "from nltk import pos_tag\n",
    "import requests\n",
    "import collections"
   ]
  },
  {
   "cell_type": "code",
   "execution_count": 4,
   "id": "84f5c255-c489-4537-b6f2-a539b877619d",
   "metadata": {},
   "outputs": [],
   "source": [
    "with open(\"newskey.txt\", 'r') as key_file:\n",
    "    news_key = key_file.read()"
   ]
  },
  {
   "cell_type": "code",
   "execution_count": 5,
   "id": "8fca065f-ae3c-42ef-8816-f86b711e5521",
   "metadata": {},
   "outputs": [],
   "source": [
    "country = \"us\"\n",
    "category = \"technology\"\n",
    "url = f\"https://newsapi.org/v2/top-headlines?country={country}&category={category}&apiKey={news_key}\""
   ]
  },
  {
   "cell_type": "code",
   "execution_count": null,
   "id": "7e88a5e7-71f1-45c1-bc4c-137bcdd974e4",
   "metadata": {},
   "outputs": [],
   "source": [
    "request = urllib.request.Request(url)\n",
    "repsinse = urllib.request.urlopen(request"
   ]
  }
 ],
 "metadata": {
  "kernelspec": {
   "display_name": "Python 3 (ipykernel)",
   "language": "python",
   "name": "python3"
  },
  "language_info": {
   "codemirror_mode": {
    "name": "ipython",
    "version": 3
   },
   "file_extension": ".py",
   "mimetype": "text/x-python",
   "name": "python",
   "nbconvert_exporter": "python",
   "pygments_lexer": "ipython3",
   "version": "3.12.7"
  }
 },
 "nbformat": 4,
 "nbformat_minor": 5
}
